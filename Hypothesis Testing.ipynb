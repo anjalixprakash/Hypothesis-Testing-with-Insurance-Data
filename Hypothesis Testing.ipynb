{
 "cells": [
  {
   "cell_type": "code",
   "execution_count": 1,
   "id": "82969e78",
   "metadata": {},
   "outputs": [
    {
     "data": {
      "text/html": [
       "<div>\n",
       "<style scoped>\n",
       "    .dataframe tbody tr th:only-of-type {\n",
       "        vertical-align: middle;\n",
       "    }\n",
       "\n",
       "    .dataframe tbody tr th {\n",
       "        vertical-align: top;\n",
       "    }\n",
       "\n",
       "    .dataframe thead th {\n",
       "        text-align: right;\n",
       "    }\n",
       "</style>\n",
       "<table border=\"1\" class=\"dataframe\">\n",
       "  <thead>\n",
       "    <tr style=\"text-align: right;\">\n",
       "      <th></th>\n",
       "      <th>age</th>\n",
       "      <th>sex</th>\n",
       "      <th>bmi</th>\n",
       "      <th>children</th>\n",
       "      <th>smoker</th>\n",
       "      <th>region</th>\n",
       "      <th>charges</th>\n",
       "    </tr>\n",
       "  </thead>\n",
       "  <tbody>\n",
       "    <tr>\n",
       "      <th>0</th>\n",
       "      <td>19</td>\n",
       "      <td>female</td>\n",
       "      <td>27.900</td>\n",
       "      <td>0</td>\n",
       "      <td>yes</td>\n",
       "      <td>southwest</td>\n",
       "      <td>16884.92400</td>\n",
       "    </tr>\n",
       "    <tr>\n",
       "      <th>1</th>\n",
       "      <td>18</td>\n",
       "      <td>male</td>\n",
       "      <td>33.770</td>\n",
       "      <td>1</td>\n",
       "      <td>no</td>\n",
       "      <td>southeast</td>\n",
       "      <td>1725.55230</td>\n",
       "    </tr>\n",
       "    <tr>\n",
       "      <th>2</th>\n",
       "      <td>28</td>\n",
       "      <td>male</td>\n",
       "      <td>33.000</td>\n",
       "      <td>3</td>\n",
       "      <td>no</td>\n",
       "      <td>southeast</td>\n",
       "      <td>4449.46200</td>\n",
       "    </tr>\n",
       "    <tr>\n",
       "      <th>3</th>\n",
       "      <td>33</td>\n",
       "      <td>male</td>\n",
       "      <td>22.705</td>\n",
       "      <td>0</td>\n",
       "      <td>no</td>\n",
       "      <td>northwest</td>\n",
       "      <td>21984.47061</td>\n",
       "    </tr>\n",
       "    <tr>\n",
       "      <th>4</th>\n",
       "      <td>32</td>\n",
       "      <td>male</td>\n",
       "      <td>28.880</td>\n",
       "      <td>0</td>\n",
       "      <td>no</td>\n",
       "      <td>northwest</td>\n",
       "      <td>3866.85520</td>\n",
       "    </tr>\n",
       "  </tbody>\n",
       "</table>\n",
       "</div>"
      ],
      "text/plain": [
       "   age     sex     bmi  children smoker     region      charges\n",
       "0   19  female  27.900         0    yes  southwest  16884.92400\n",
       "1   18    male  33.770         1     no  southeast   1725.55230\n",
       "2   28    male  33.000         3     no  southeast   4449.46200\n",
       "3   33    male  22.705         0     no  northwest  21984.47061\n",
       "4   32    male  28.880         0     no  northwest   3866.85520"
      ]
     },
     "execution_count": 1,
     "metadata": {},
     "output_type": "execute_result"
    }
   ],
   "source": [
    "# Load in the dataframe as df:\n",
    "import pandas as pd\n",
    "import numpy as np\n",
    "import matplotlib.pyplot as plt\n",
    "import seaborn as sns\n",
    "from scipy import stats\n",
    "df = pd.read_csv('Data/insurance - insurance.csv')\n",
    "df.head()"
   ]
  },
  {
   "cell_type": "markdown",
   "id": "846706ce",
   "metadata": {},
   "source": [
    "Q1. Do smokers have higher insurance charges than non-smokers?\n",
    "\n",
    "Null hypothesis: Smokers do not have higher insurance charges than non-smokers.\n",
    "\n",
    "Alternative Hypothesis: Smokers do have higher insurance charges than non-smokers.\n",
    "\n",
    "**Selected Test: Two-Sample T-Test**"
   ]
  },
  {
   "cell_type": "code",
   "execution_count": 8,
   "id": "46fac39b",
   "metadata": {},
   "outputs": [],
   "source": [
    "# see how many do and do not smoke\n",
    "df['smoker'].value_counts()\n",
    "# Filtering out those who smoke or don't smoke\n",
    "smoker_df = df.loc[df['smoker']== \"yes\"].copy()\n",
    "non_smoker_df = df.loc[df['smoker']== \"no\"].copy()\n"
   ]
  },
  {
   "cell_type": "code",
   "execution_count": 9,
   "id": "8c29219e",
   "metadata": {},
   "outputs": [],
   "source": [
    "smoker_charge = smoker_df['charges']\n",
    "non_smoker_charge = non_smoker_df['charges']"
   ]
  },
  {
   "cell_type": "markdown",
   "id": "1cd8b213",
   "metadata": {},
   "source": [
    "### Check and Remove Outliers"
   ]
  },
  {
   "cell_type": "code",
   "execution_count": 10,
   "id": "fd5b08a3",
   "metadata": {},
   "outputs": [
    {
     "data": {
      "text/plain": [
       "0"
      ]
     },
     "execution_count": 10,
     "metadata": {},
     "output_type": "execute_result"
    }
   ],
   "source": [
    "# Check for outliers in smoker group\n",
    "zscores= stats.zscore(smoker_charge)\n",
    "outliers = abs(zscores)>3\n",
    "np.sum(outliers)"
   ]
  },
  {
   "cell_type": "code",
   "execution_count": 11,
   "id": "f390d505",
   "metadata": {},
   "outputs": [
    {
     "data": {
      "text/plain": [
       "24"
      ]
     },
     "execution_count": 11,
     "metadata": {},
     "output_type": "execute_result"
    }
   ],
   "source": [
    "# check for outliers in non smoker group\n",
    "zscores= stats.zscore(non_smoker_charge)\n",
    "outliers = abs(zscores)>3\n",
    "np.sum(outliers)"
   ]
  },
  {
   "cell_type": "code",
   "execution_count": 12,
   "id": "1da9e251",
   "metadata": {},
   "outputs": [],
   "source": [
    "# remove outlier for non smoker group\n",
    "non_smoker_charge = non_smoker_charge[(np.abs(stats.zscore(non_smoker_charge)) < 3)]"
   ]
  },
  {
   "cell_type": "code",
   "execution_count": 14,
   "id": "6f5e1125",
   "metadata": {},
   "outputs": [
    {
     "data": {
      "text/plain": [
       "NormaltestResult(statistic=61.03941356533816, pvalue=5.564930630036463e-14)"
      ]
     },
     "execution_count": 14,
     "metadata": {},
     "output_type": "execute_result"
    }
   ],
   "source": [
    "# test the strength group for normality\n",
    "result_smoker_charge = stats.normaltest(smoker_charge)\n",
    "result_smoker_charge"
   ]
  },
  {
   "cell_type": "code",
   "execution_count": 15,
   "id": "3eee4f62",
   "metadata": {},
   "outputs": [
    {
     "data": {
      "text/plain": [
       "NormaltestResult(statistic=163.80367047789198, pvalue=2.6945416315543976e-36)"
      ]
     },
     "execution_count": 15,
     "metadata": {},
     "output_type": "execute_result"
    }
   ],
   "source": [
    "result_non_smoker_charge = stats.normaltest(non_smoker_charge)\n",
    "result_non_smoker_charge"
   ]
  },
  {
   "cell_type": "markdown",
   "id": "4e0bd2e8",
   "metadata": {},
   "source": [
    "Our p-value < 0.05 which means our data is not normally distributed for both samples. However, according to parametric test n > 15 so we can ignore the normality assumption.\n",
    "\n",
    "###  Test for equal variance\n"
   ]
  },
  {
   "cell_type": "code",
   "execution_count": 16,
   "id": "37c051e1",
   "metadata": {},
   "outputs": [
    {
     "data": {
      "text/plain": [
       "LeveneResult(statistic=520.7468821724297, pvalue=2.4247238784347824e-97)"
      ]
     },
     "execution_count": 16,
     "metadata": {},
     "output_type": "execute_result"
    }
   ],
   "source": [
    "result = stats.levene(smoker_charge, non_smoker_charge)\n",
    "result"
   ]
  },
  {
   "cell_type": "markdown",
   "id": "3619f71e",
   "metadata": {},
   "source": [
    "Looks like we don't have equal variances, but that won't stop us! We just need to be sure to include \"equal_var = False\" when we perform our t-test."
   ]
  },
  {
   "cell_type": "code",
   "execution_count": 17,
   "id": "7164ec34",
   "metadata": {},
   "outputs": [
    {
     "data": {
      "text/plain": [
       "Ttest_indResult(statistic=33.732305987092516, pvalue=2.5753226625873578e-104)"
      ]
     },
     "execution_count": 17,
     "metadata": {},
     "output_type": "execute_result"
    }
   ],
   "source": [
    "# Independent t-test with equal_var set to False\n",
    "result = stats.ttest_ind(smoker_charge, non_smoker_charge, equal_var = False)\n",
    "result"
   ]
  },
  {
   "cell_type": "markdown",
   "id": "4a611578",
   "metadata": {},
   "source": [
    "Our p-value < alpha (0.05), so we reject the null hypothesis and accept that there is a significant difference between the insurance charges for smokers and non-smokers."
   ]
  },
  {
   "cell_type": "markdown",
   "id": "b805ec16",
   "metadata": {},
   "source": [
    "Q2. Are men more likely to smoke than women?\n",
    "\n",
    "Null Hypothesis: Men are no more likely than women to smoke.\n",
    "\n",
    "Alternative hypothesis: Men are more likely to smoke than women."
   ]
  },
  {
   "cell_type": "markdown",
   "id": "28fb767a",
   "metadata": {},
   "source": [
    "Q3. Do different regions have different charges, on average?\n",
    "\n",
    "Null Hypothesis: Different regions do not have different charges, on average.\n",
    "\n",
    "Alternative Hypothesis: Different regions do have different charges on average. \n"
   ]
  }
 ],
 "metadata": {
  "kernelspec": {
   "display_name": "Python (dojo-env)",
   "language": "python",
   "name": "dojo-env"
  },
  "language_info": {
   "codemirror_mode": {
    "name": "ipython",
    "version": 3
   },
   "file_extension": ".py",
   "mimetype": "text/x-python",
   "name": "python",
   "nbconvert_exporter": "python",
   "pygments_lexer": "ipython3",
   "version": "3.9.15"
  },
  "toc": {
   "base_numbering": 1,
   "nav_menu": {},
   "number_sections": true,
   "sideBar": true,
   "skip_h1_title": false,
   "title_cell": "Table of Contents",
   "title_sidebar": "Contents",
   "toc_cell": false,
   "toc_position": {},
   "toc_section_display": true,
   "toc_window_display": false
  }
 },
 "nbformat": 4,
 "nbformat_minor": 5
}
